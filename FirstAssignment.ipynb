{
 "cells": [
  {
   "cell_type": "markdown",
   "metadata": {},
   "source": [
    "## Assignment: Working with Dependency Graphs (Parses)\n",
    "\n",
    "Define functions to:\n",
    "- expract a path of dependency relations from the ROOT to a token\n",
    "- extract subtree of a dependents given a token\n",
    "- check if a given list of tokens (segment of a sentence) forms a subtree\n",
    "- identify head of a span, given its tokens\n",
    "- extract sentence subject, direct object and indirect object spans"
   ]
  },
  {
   "cell_type": "code",
   "execution_count": null,
   "metadata": {},
   "outputs": [],
   "source": [
    "import spacy\n",
    "nlp = spacy.load(\"en_core_web_sm\")\n",
    "sentence='I saw the man with a telescope'"
   ]
  },
  {
   "cell_type": "markdown",
   "metadata": {},
   "source": [
    "## extract a path of dependency relations from the ROOT to a token"
   ]
  },
  {
   "cell_type": "code",
   "execution_count": null,
   "metadata": {},
   "outputs": [],
   "source": [
    "def firstpoint(sentence):\n",
    "    doc = nlp(sentence)\n",
    "    token_path=[]\n",
    "    path={}\n",
    "    for t in doc:\n",
    "        temp=t\n",
    "        while not t.dep_=='ROOT': \n",
    "            token_path.insert(0,t.dep_)\n",
    "            t=t.head  \n",
    "        token_path.insert(0,'ROOT')\n",
    "        path[temp]=token_path\n",
    "        token_path=[]\n",
    "\n",
    "    return path\n",
    "\n",
    "d=firstpoint(sentence)\n",
    "\n",
    "for tok in d:\n",
    "    print('{}\\t{}'.format(tok, d[tok]))"
   ]
  },
  {
   "cell_type": "markdown",
   "metadata": {},
   "source": [
    "## extract subtree of a dependents given a token"
   ]
  },
  {
   "cell_type": "code",
   "execution_count": null,
   "metadata": {},
   "outputs": [],
   "source": [
    "def secondpoint(sentence):\n",
    "    doc = nlp(sentence)\n",
    "    result={}\n",
    "    path=[]\n",
    "    for t in doc: \n",
    "        for token in t.subtree:\n",
    "            path.append(token.text) #appending token.text and not token because it will simplify the search\n",
    "            \n",
    "        \n",
    "        result[t]=path\n",
    "        path=[]\n",
    "\n",
    "    return result\n",
    "\n",
    "\n",
    "d=secondpoint(sentence)\n",
    "\n",
    "for key,value in d.items():\n",
    "    print(key,value)\n"
   ]
  },
  {
   "cell_type": "markdown",
   "metadata": {},
   "source": [
    "## check if a given list of tokens (segment of a sentence) forms a subtree"
   ]
  },
  {
   "cell_type": "code",
   "execution_count": null,
   "metadata": {},
   "outputs": [],
   "source": [
    "def thirdpoint(sentence, sub):\n",
    "    d=secondopunto(sentence)\n",
    "    check=False\n",
    "    for key,values in d.items():\n",
    "        if (sub==values):\n",
    "            check=True\n",
    "            \n",
    "    return check\n",
    "thirdpoint(sentence, ['a','telescope'])\n"
   ]
  },
  {
   "cell_type": "markdown",
   "metadata": {},
   "source": [
    "## identify head of a span, given its tokens"
   ]
  },
  {
   "cell_type": "code",
   "execution_count": null,
   "metadata": {},
   "outputs": [],
   "source": [
    "def fourthpoint(sentence,start=0, end=len(sentence)):\n",
    "    doc = nlp(sentence)\n",
    "    span= doc[0:len(sentence)]\n",
    "    return span.root\n",
    "    \n",
    "\n",
    "    \n",
    "s_span=fourthpoint(sentence,3,5)\n",
    "\n",
    "n_span=fourthpoint(sentence)\n",
    "print ('con star/end:', s_span)\n",
    "print('no start/end:' , n_span)"
   ]
  },
  {
   "cell_type": "markdown",
   "metadata": {},
   "source": [
    "## extract sentence subject, direct object and indirect object spans"
   ]
  },
  {
   "cell_type": "code",
   "execution_count": null,
   "metadata": {},
   "outputs": [],
   "source": [
    "def fifthpoint(sentence):\n",
    "    doc = nlp(sentence)\n",
    "    #dative=io\n",
    "    \n",
    "    res={ 'nsubj': [] , 'dobj': [] , 'dative':[] } \n",
    "    \n",
    "    for key in res.keys(): \n",
    "        for t in doc: \n",
    "            if (t.dep_==key):\n",
    "                for t in t.subtree:\n",
    "                    res[key].append(t)\n",
    "    return res\n",
    "\n",
    "fifthpoint(sentence)"
   ]
  }
 ],
 "metadata": {
  "kernelspec": {
   "display_name": "Python 3",
   "language": "python",
   "name": "python3"
  },
  "language_info": {
   "codemirror_mode": {
    "name": "ipython",
    "version": 3
   },
   "file_extension": ".py",
   "mimetype": "text/x-python",
   "name": "python",
   "nbconvert_exporter": "python",
   "pygments_lexer": "ipython3",
   "version": "3.8.5"
  }
 },
 "nbformat": 4,
 "nbformat_minor": 4
}
